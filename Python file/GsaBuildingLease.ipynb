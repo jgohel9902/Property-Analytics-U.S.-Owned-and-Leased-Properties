{
 "cells": [
  {
   "cell_type": "code",
   "execution_count": 1,
   "metadata": {},
   "outputs": [],
   "source": [
    "import pandas as pd\n",
    "import matplotlib.pyplot as plt\n",
    "import seaborn as sns\n",
    "import datetime"
   ]
  },
  {
   "cell_type": "code",
   "execution_count": 2,
   "metadata": {},
   "outputs": [
    {
     "name": "stdout",
     "output_type": "stream",
     "text": [
      "Requirement already satisfied: openpyxl in c:\\users\\bichn\\appdata\\local\\programs\\python\\python312\\lib\\site-packages (3.1.5)\n",
      "Requirement already satisfied: et-xmlfile in c:\\users\\bichn\\appdata\\local\\programs\\python\\python312\\lib\\site-packages (from openpyxl) (2.0.0)\n",
      "Note: you may need to restart the kernel to use updated packages.\n"
     ]
    },
    {
     "name": "stderr",
     "output_type": "stream",
     "text": [
      "\n",
      "[notice] A new release of pip is available: 24.2 -> 24.3.1\n",
      "[notice] To update, run: python.exe -m pip install --upgrade pip\n"
     ]
    }
   ],
   "source": [
    "pip install openpyxl"
   ]
  },
  {
   "cell_type": "code",
   "execution_count": 3,
   "metadata": {},
   "outputs": [],
   "source": [
    "buildings = pd.read_excel(\"2024-11-8-iolp-buildings.xlsx\")\n",
    "leases = pd.read_excel(\"2024-11-8-iolp-leases.xlsx\")"
   ]
  },
  {
   "cell_type": "code",
   "execution_count": 4,
   "metadata": {},
   "outputs": [
    {
     "data": {
      "text/html": [
       "<div>\n",
       "<style scoped>\n",
       "    .dataframe tbody tr th:only-of-type {\n",
       "        vertical-align: middle;\n",
       "    }\n",
       "\n",
       "    .dataframe tbody tr th {\n",
       "        vertical-align: top;\n",
       "    }\n",
       "\n",
       "    .dataframe thead th {\n",
       "        text-align: right;\n",
       "    }\n",
       "</style>\n",
       "<table border=\"1\" class=\"dataframe\">\n",
       "  <thead>\n",
       "    <tr style=\"text-align: right;\">\n",
       "      <th></th>\n",
       "      <th>Location Code</th>\n",
       "      <th>Real Property Asset Name</th>\n",
       "      <th>Installation Name</th>\n",
       "      <th>Owned or Leased</th>\n",
       "      <th>GSA Region</th>\n",
       "      <th>Street Address</th>\n",
       "      <th>City</th>\n",
       "      <th>State</th>\n",
       "      <th>Zip Code</th>\n",
       "      <th>Latitude</th>\n",
       "      <th>Longitude</th>\n",
       "      <th>Building Rentable Square Feet</th>\n",
       "      <th>Available Square Feet</th>\n",
       "      <th>Construction Date</th>\n",
       "      <th>Congressional District</th>\n",
       "      <th>Congressional District Representative Name</th>\n",
       "      <th>Building Status</th>\n",
       "      <th>Real Property Asset Type</th>\n",
       "    </tr>\n",
       "  </thead>\n",
       "  <tbody>\n",
       "    <tr>\n",
       "      <th>0</th>\n",
       "      <td>VA3055</td>\n",
       "      <td>KNELLS RIDGE BOULEVARD SITE</td>\n",
       "      <td>NaN</td>\n",
       "      <td>L</td>\n",
       "      <td>3</td>\n",
       "      <td>KNELLS RIDGE BOULEVARD SITE</td>\n",
       "      <td>CHESAPEAKE</td>\n",
       "      <td>VA</td>\n",
       "      <td>23320</td>\n",
       "      <td>36.748988</td>\n",
       "      <td>-76.247577</td>\n",
       "      <td>196183.00</td>\n",
       "      <td>0.0</td>\n",
       "      <td>2024.0</td>\n",
       "      <td>5102.0</td>\n",
       "      <td>Jennifer Kiggans</td>\n",
       "      <td>Active</td>\n",
       "      <td>BUILDING</td>\n",
       "    </tr>\n",
       "    <tr>\n",
       "      <th>1</th>\n",
       "      <td>GA2338</td>\n",
       "      <td>THOMPSON BRIDGE RD BLDG</td>\n",
       "      <td>NaN</td>\n",
       "      <td>L</td>\n",
       "      <td>4</td>\n",
       "      <td>2565 THOMPSON BRIDGE RD</td>\n",
       "      <td>GAINESVILLE</td>\n",
       "      <td>GA</td>\n",
       "      <td>30501</td>\n",
       "      <td>34.339030</td>\n",
       "      <td>-83.848641</td>\n",
       "      <td>17844.00</td>\n",
       "      <td>0.0</td>\n",
       "      <td>2000.0</td>\n",
       "      <td>1309.0</td>\n",
       "      <td>Andrew Clyde</td>\n",
       "      <td>Active</td>\n",
       "      <td>BUILDING</td>\n",
       "    </tr>\n",
       "    <tr>\n",
       "      <th>2</th>\n",
       "      <td>WI1771</td>\n",
       "      <td>345 WEST WASHINGTON AVENUE</td>\n",
       "      <td>NaN</td>\n",
       "      <td>L</td>\n",
       "      <td>5</td>\n",
       "      <td>345 W WASHINGTON AVE</td>\n",
       "      <td>MADISON</td>\n",
       "      <td>WI</td>\n",
       "      <td>53703</td>\n",
       "      <td>43.071400</td>\n",
       "      <td>-89.387941</td>\n",
       "      <td>10089.00</td>\n",
       "      <td>0.0</td>\n",
       "      <td>2000.0</td>\n",
       "      <td>5502.0</td>\n",
       "      <td>Mark Pocan</td>\n",
       "      <td>Active</td>\n",
       "      <td>BUILDING</td>\n",
       "    </tr>\n",
       "    <tr>\n",
       "      <th>3</th>\n",
       "      <td>MN1743</td>\n",
       "      <td>1301 1/2 7TH ST. NW</td>\n",
       "      <td>NaN</td>\n",
       "      <td>L</td>\n",
       "      <td>5</td>\n",
       "      <td>1301 1/2 7TH ST NW</td>\n",
       "      <td>ROCHESTER</td>\n",
       "      <td>MN</td>\n",
       "      <td>55901</td>\n",
       "      <td>44.031849</td>\n",
       "      <td>-92.481598</td>\n",
       "      <td>3041.00</td>\n",
       "      <td>0.0</td>\n",
       "      <td>2000.0</td>\n",
       "      <td>2701.0</td>\n",
       "      <td>Brad Finstad</td>\n",
       "      <td>Active</td>\n",
       "      <td>BUILDING</td>\n",
       "    </tr>\n",
       "    <tr>\n",
       "      <th>4</th>\n",
       "      <td>MD1008</td>\n",
       "      <td>WOODLAWN OFFICE COMPLEX</td>\n",
       "      <td>NaN</td>\n",
       "      <td>L</td>\n",
       "      <td>3</td>\n",
       "      <td>1718 WOODLAWN DR</td>\n",
       "      <td>WOODLAWN</td>\n",
       "      <td>MD</td>\n",
       "      <td>21207</td>\n",
       "      <td>39.314760</td>\n",
       "      <td>-76.737771</td>\n",
       "      <td>160810.00</td>\n",
       "      <td>0.0</td>\n",
       "      <td>2000.0</td>\n",
       "      <td>2407.0</td>\n",
       "      <td>Kweisi Mfume</td>\n",
       "      <td>Active</td>\n",
       "      <td>BUILDING</td>\n",
       "    </tr>\n",
       "    <tr>\n",
       "      <th>5</th>\n",
       "      <td>CO1890</td>\n",
       "      <td>466 TUCKER SREET</td>\n",
       "      <td>NaN</td>\n",
       "      <td>L</td>\n",
       "      <td>8</td>\n",
       "      <td>466 TUCKER ST</td>\n",
       "      <td>CRAIG</td>\n",
       "      <td>CO</td>\n",
       "      <td>81625</td>\n",
       "      <td>40.513620</td>\n",
       "      <td>-107.545000</td>\n",
       "      <td>5000.00</td>\n",
       "      <td>0.0</td>\n",
       "      <td>2000.0</td>\n",
       "      <td>803.0</td>\n",
       "      <td>Lauren Boebert</td>\n",
       "      <td>Active</td>\n",
       "      <td>BUILDING</td>\n",
       "    </tr>\n",
       "    <tr>\n",
       "      <th>6</th>\n",
       "      <td>CO1880</td>\n",
       "      <td>HORIZON COURT BUILDING</td>\n",
       "      <td>NaN</td>\n",
       "      <td>L</td>\n",
       "      <td>8</td>\n",
       "      <td>744 HORIZON CT</td>\n",
       "      <td>GRAND JUNCTION</td>\n",
       "      <td>CO</td>\n",
       "      <td>81506</td>\n",
       "      <td>39.113180</td>\n",
       "      <td>-108.533000</td>\n",
       "      <td>421.00</td>\n",
       "      <td>0.0</td>\n",
       "      <td>2000.0</td>\n",
       "      <td>803.0</td>\n",
       "      <td>Lauren Boebert</td>\n",
       "      <td>Active</td>\n",
       "      <td>BUILDING</td>\n",
       "    </tr>\n",
       "    <tr>\n",
       "      <th>7</th>\n",
       "      <td>FL2207</td>\n",
       "      <td>THE CRAGG BUILDING</td>\n",
       "      <td>NaN</td>\n",
       "      <td>L</td>\n",
       "      <td>4</td>\n",
       "      <td>3452 LAKE LYNDA DR</td>\n",
       "      <td>ORLANDO</td>\n",
       "      <td>FL</td>\n",
       "      <td>32817</td>\n",
       "      <td>28.599470</td>\n",
       "      <td>-81.222241</td>\n",
       "      <td>22182.00</td>\n",
       "      <td>0.0</td>\n",
       "      <td>2000.0</td>\n",
       "      <td>1210.0</td>\n",
       "      <td>Maxwell Frost</td>\n",
       "      <td>Active</td>\n",
       "      <td>BUILDING</td>\n",
       "    </tr>\n",
       "    <tr>\n",
       "      <th>8</th>\n",
       "      <td>AZ8543</td>\n",
       "      <td>1840 N. 95TH AVE</td>\n",
       "      <td>NaN</td>\n",
       "      <td>L</td>\n",
       "      <td>9</td>\n",
       "      <td>1840 N. 95TH AVE</td>\n",
       "      <td>PHOENIX</td>\n",
       "      <td>AZ</td>\n",
       "      <td>85037</td>\n",
       "      <td>33.467202</td>\n",
       "      <td>-112.265509</td>\n",
       "      <td>7194.00</td>\n",
       "      <td>0.0</td>\n",
       "      <td>2000.0</td>\n",
       "      <td>403.0</td>\n",
       "      <td>Ruben Gallego</td>\n",
       "      <td>Active</td>\n",
       "      <td>BUILDING</td>\n",
       "    </tr>\n",
       "    <tr>\n",
       "      <th>9</th>\n",
       "      <td>FL0049</td>\n",
       "      <td>U. S. COURTHOUSE, TALLAHASSEE, FL</td>\n",
       "      <td>NaN</td>\n",
       "      <td>F</td>\n",
       "      <td>4</td>\n",
       "      <td>110 E PARK AVE</td>\n",
       "      <td>TALLAHASSEE</td>\n",
       "      <td>FL</td>\n",
       "      <td>32301</td>\n",
       "      <td>30.442520</td>\n",
       "      <td>-84.281351</td>\n",
       "      <td>40294.34</td>\n",
       "      <td>0.0</td>\n",
       "      <td>1937.0</td>\n",
       "      <td>1202.0</td>\n",
       "      <td>Neal Dunn</td>\n",
       "      <td>Active</td>\n",
       "      <td>BUILDING</td>\n",
       "    </tr>\n",
       "  </tbody>\n",
       "</table>\n",
       "</div>"
      ],
      "text/plain": [
       "  Location Code           Real Property Asset Name Installation Name  \\\n",
       "0        VA3055        KNELLS RIDGE BOULEVARD SITE               NaN   \n",
       "1        GA2338            THOMPSON BRIDGE RD BLDG               NaN   \n",
       "2        WI1771         345 WEST WASHINGTON AVENUE               NaN   \n",
       "3        MN1743                1301 1/2 7TH ST. NW               NaN   \n",
       "4        MD1008            WOODLAWN OFFICE COMPLEX               NaN   \n",
       "5        CO1890                   466 TUCKER SREET               NaN   \n",
       "6        CO1880             HORIZON COURT BUILDING               NaN   \n",
       "7        FL2207                 THE CRAGG BUILDING               NaN   \n",
       "8        AZ8543                   1840 N. 95TH AVE               NaN   \n",
       "9        FL0049  U. S. COURTHOUSE, TALLAHASSEE, FL               NaN   \n",
       "\n",
       "  Owned or Leased  GSA Region               Street Address            City  \\\n",
       "0               L           3  KNELLS RIDGE BOULEVARD SITE      CHESAPEAKE   \n",
       "1               L           4      2565 THOMPSON BRIDGE RD     GAINESVILLE   \n",
       "2               L           5         345 W WASHINGTON AVE         MADISON   \n",
       "3               L           5           1301 1/2 7TH ST NW       ROCHESTER   \n",
       "4               L           3             1718 WOODLAWN DR        WOODLAWN   \n",
       "5               L           8                466 TUCKER ST           CRAIG   \n",
       "6               L           8               744 HORIZON CT  GRAND JUNCTION   \n",
       "7               L           4           3452 LAKE LYNDA DR         ORLANDO   \n",
       "8               L           9             1840 N. 95TH AVE         PHOENIX   \n",
       "9               F           4               110 E PARK AVE     TALLAHASSEE   \n",
       "\n",
       "  State  Zip Code   Latitude   Longitude  Building Rentable Square Feet  \\\n",
       "0    VA     23320  36.748988  -76.247577                      196183.00   \n",
       "1    GA     30501  34.339030  -83.848641                       17844.00   \n",
       "2    WI     53703  43.071400  -89.387941                       10089.00   \n",
       "3    MN     55901  44.031849  -92.481598                        3041.00   \n",
       "4    MD     21207  39.314760  -76.737771                      160810.00   \n",
       "5    CO     81625  40.513620 -107.545000                        5000.00   \n",
       "6    CO     81506  39.113180 -108.533000                         421.00   \n",
       "7    FL     32817  28.599470  -81.222241                       22182.00   \n",
       "8    AZ     85037  33.467202 -112.265509                        7194.00   \n",
       "9    FL     32301  30.442520  -84.281351                       40294.34   \n",
       "\n",
       "   Available Square Feet  Construction Date  Congressional District  \\\n",
       "0                    0.0             2024.0                  5102.0   \n",
       "1                    0.0             2000.0                  1309.0   \n",
       "2                    0.0             2000.0                  5502.0   \n",
       "3                    0.0             2000.0                  2701.0   \n",
       "4                    0.0             2000.0                  2407.0   \n",
       "5                    0.0             2000.0                   803.0   \n",
       "6                    0.0             2000.0                   803.0   \n",
       "7                    0.0             2000.0                  1210.0   \n",
       "8                    0.0             2000.0                   403.0   \n",
       "9                    0.0             1937.0                  1202.0   \n",
       "\n",
       "  Congressional District Representative Name Building Status  \\\n",
       "0                           Jennifer Kiggans          Active   \n",
       "1                               Andrew Clyde          Active   \n",
       "2                                 Mark Pocan          Active   \n",
       "3                               Brad Finstad          Active   \n",
       "4                               Kweisi Mfume          Active   \n",
       "5                             Lauren Boebert          Active   \n",
       "6                             Lauren Boebert          Active   \n",
       "7                              Maxwell Frost          Active   \n",
       "8                              Ruben Gallego          Active   \n",
       "9                                  Neal Dunn          Active   \n",
       "\n",
       "  Real Property Asset Type  \n",
       "0                 BUILDING  \n",
       "1                 BUILDING  \n",
       "2                 BUILDING  \n",
       "3                 BUILDING  \n",
       "4                 BUILDING  \n",
       "5                 BUILDING  \n",
       "6                 BUILDING  \n",
       "7                 BUILDING  \n",
       "8                 BUILDING  \n",
       "9                 BUILDING  "
      ]
     },
     "execution_count": 4,
     "metadata": {},
     "output_type": "execute_result"
    }
   ],
   "source": [
    "buildings.head(10)"
   ]
  },
  {
   "cell_type": "code",
   "execution_count": 5,
   "metadata": {},
   "outputs": [
    {
     "data": {
      "text/html": [
       "<div>\n",
       "<style scoped>\n",
       "    .dataframe tbody tr th:only-of-type {\n",
       "        vertical-align: middle;\n",
       "    }\n",
       "\n",
       "    .dataframe tbody tr th {\n",
       "        vertical-align: top;\n",
       "    }\n",
       "\n",
       "    .dataframe thead th {\n",
       "        text-align: right;\n",
       "    }\n",
       "</style>\n",
       "<table border=\"1\" class=\"dataframe\">\n",
       "  <thead>\n",
       "    <tr style=\"text-align: right;\">\n",
       "      <th></th>\n",
       "      <th>Location Code</th>\n",
       "      <th>Real Property Asset Name</th>\n",
       "      <th>Installation Name</th>\n",
       "      <th>Federal Leased Code</th>\n",
       "      <th>GSA Region</th>\n",
       "      <th>Street Address</th>\n",
       "      <th>City</th>\n",
       "      <th>State</th>\n",
       "      <th>Zip Code</th>\n",
       "      <th>Latitude</th>\n",
       "      <th>Longitude</th>\n",
       "      <th>Building Rentable Square Feet</th>\n",
       "      <th>Available Square Feet</th>\n",
       "      <th>Congressional District</th>\n",
       "      <th>Congressional District Representative</th>\n",
       "      <th>Lease Number</th>\n",
       "      <th>Lease Effective Date</th>\n",
       "      <th>Lease Expiration Date</th>\n",
       "      <th>Real Property Asset type</th>\n",
       "    </tr>\n",
       "  </thead>\n",
       "  <tbody>\n",
       "    <tr>\n",
       "      <th>0</th>\n",
       "      <td>VA3055</td>\n",
       "      <td>KNELLS RIDGE BOULEVARD SITE</td>\n",
       "      <td>NaN</td>\n",
       "      <td>L</td>\n",
       "      <td>3</td>\n",
       "      <td>KNELLS RIDGE BOULEVARD SITE</td>\n",
       "      <td>CHESAPEAKE</td>\n",
       "      <td>VA</td>\n",
       "      <td>23320</td>\n",
       "      <td>36.748988</td>\n",
       "      <td>-76.247577</td>\n",
       "      <td>196183.0</td>\n",
       "      <td>0.0</td>\n",
       "      <td>5102</td>\n",
       "      <td>ROBERT SCOTT</td>\n",
       "      <td>LVA00729</td>\n",
       "      <td>2024-08-22</td>\n",
       "      <td>2044-08-21</td>\n",
       "      <td>BUILDING</td>\n",
       "    </tr>\n",
       "    <tr>\n",
       "      <th>1</th>\n",
       "      <td>PA0656</td>\n",
       "      <td>THE GATEWAY BLDG</td>\n",
       "      <td>NaN</td>\n",
       "      <td>L</td>\n",
       "      <td>3</td>\n",
       "      <td>201 PENN ST</td>\n",
       "      <td>READING</td>\n",
       "      <td>PA</td>\n",
       "      <td>19601</td>\n",
       "      <td>40.335870</td>\n",
       "      <td>-75.933271</td>\n",
       "      <td>54743.0</td>\n",
       "      <td>0.0</td>\n",
       "      <td>4206</td>\n",
       "      <td>CHRISSY HOULAHAN</td>\n",
       "      <td>LPA00132</td>\n",
       "      <td>2020-02-12</td>\n",
       "      <td>2035-02-11</td>\n",
       "      <td>BUILDING</td>\n",
       "    </tr>\n",
       "    <tr>\n",
       "      <th>2</th>\n",
       "      <td>AZ6769</td>\n",
       "      <td>BLM NAT'L TRAIN CTR</td>\n",
       "      <td>NaN</td>\n",
       "      <td>L</td>\n",
       "      <td>9</td>\n",
       "      <td>9828 N 31ST AVE</td>\n",
       "      <td>PHOENIX</td>\n",
       "      <td>AZ</td>\n",
       "      <td>85051</td>\n",
       "      <td>33.575390</td>\n",
       "      <td>-112.127040</td>\n",
       "      <td>72465.0</td>\n",
       "      <td>0.0</td>\n",
       "      <td>408</td>\n",
       "      <td>DEBBIE LESKO</td>\n",
       "      <td>LAZ00614</td>\n",
       "      <td>2020-11-01</td>\n",
       "      <td>2032-10-31</td>\n",
       "      <td>BUILDING</td>\n",
       "    </tr>\n",
       "    <tr>\n",
       "      <th>3</th>\n",
       "      <td>GA2170</td>\n",
       "      <td>56 PARK OF COMMERCE, SAVANNAH, GA</td>\n",
       "      <td>NaN</td>\n",
       "      <td>L</td>\n",
       "      <td>4</td>\n",
       "      <td>56 PARK OF COMMERCE BLVD</td>\n",
       "      <td>SAVANNAH</td>\n",
       "      <td>GA</td>\n",
       "      <td>31405</td>\n",
       "      <td>32.068700</td>\n",
       "      <td>-81.163241</td>\n",
       "      <td>25524.0</td>\n",
       "      <td>4480.0</td>\n",
       "      <td>1301</td>\n",
       "      <td>EARL CARTER</td>\n",
       "      <td>LGA02806</td>\n",
       "      <td>2024-01-22</td>\n",
       "      <td>2029-01-21</td>\n",
       "      <td>BUILDING</td>\n",
       "    </tr>\n",
       "    <tr>\n",
       "      <th>4</th>\n",
       "      <td>TX2983</td>\n",
       "      <td>PROJECT TECH II</td>\n",
       "      <td>NaN</td>\n",
       "      <td>L</td>\n",
       "      <td>7</td>\n",
       "      <td>3130 GENERAL HUDNELL DR</td>\n",
       "      <td>SAN ANTONIO</td>\n",
       "      <td>TX</td>\n",
       "      <td>78226</td>\n",
       "      <td>29.381994</td>\n",
       "      <td>-98.560139</td>\n",
       "      <td>85844.0</td>\n",
       "      <td>0.0</td>\n",
       "      <td>4823</td>\n",
       "      <td>TONY GONZALES</td>\n",
       "      <td>LTX00322</td>\n",
       "      <td>2022-01-28</td>\n",
       "      <td>2037-01-27</td>\n",
       "      <td>BUILDING</td>\n",
       "    </tr>\n",
       "  </tbody>\n",
       "</table>\n",
       "</div>"
      ],
      "text/plain": [
       "  Location Code           Real Property Asset Name Installation Name  \\\n",
       "0        VA3055        KNELLS RIDGE BOULEVARD SITE               NaN   \n",
       "1        PA0656                   THE GATEWAY BLDG               NaN   \n",
       "2        AZ6769                BLM NAT'L TRAIN CTR               NaN   \n",
       "3        GA2170  56 PARK OF COMMERCE, SAVANNAH, GA               NaN   \n",
       "4        TX2983                    PROJECT TECH II               NaN   \n",
       "\n",
       "  Federal Leased Code  GSA Region               Street Address         City  \\\n",
       "0                   L           3  KNELLS RIDGE BOULEVARD SITE   CHESAPEAKE   \n",
       "1                   L           3                  201 PENN ST      READING   \n",
       "2                   L           9              9828 N 31ST AVE      PHOENIX   \n",
       "3                   L           4     56 PARK OF COMMERCE BLVD     SAVANNAH   \n",
       "4                   L           7      3130 GENERAL HUDNELL DR  SAN ANTONIO   \n",
       "\n",
       "  State  Zip Code   Latitude   Longitude  Building Rentable Square Feet  \\\n",
       "0    VA     23320  36.748988  -76.247577                       196183.0   \n",
       "1    PA     19601  40.335870  -75.933271                        54743.0   \n",
       "2    AZ     85051  33.575390 -112.127040                        72465.0   \n",
       "3    GA     31405  32.068700  -81.163241                        25524.0   \n",
       "4    TX     78226  29.381994  -98.560139                        85844.0   \n",
       "\n",
       "   Available Square Feet  Congressional District  \\\n",
       "0                    0.0                    5102   \n",
       "1                    0.0                    4206   \n",
       "2                    0.0                     408   \n",
       "3                 4480.0                    1301   \n",
       "4                    0.0                    4823   \n",
       "\n",
       "  Congressional District Representative Lease Number Lease Effective Date  \\\n",
       "0                          ROBERT SCOTT     LVA00729           2024-08-22   \n",
       "1                      CHRISSY HOULAHAN     LPA00132           2020-02-12   \n",
       "2                          DEBBIE LESKO     LAZ00614           2020-11-01   \n",
       "3                           EARL CARTER     LGA02806           2024-01-22   \n",
       "4                         TONY GONZALES     LTX00322           2022-01-28   \n",
       "\n",
       "  Lease Expiration Date Real Property Asset type  \n",
       "0            2044-08-21                 BUILDING  \n",
       "1            2035-02-11                 BUILDING  \n",
       "2            2032-10-31                 BUILDING  \n",
       "3            2029-01-21                 BUILDING  \n",
       "4            2037-01-27                 BUILDING  "
      ]
     },
     "execution_count": 5,
     "metadata": {},
     "output_type": "execute_result"
    }
   ],
   "source": [
    "leases.head(5)"
   ]
  },
  {
   "cell_type": "code",
   "execution_count": 6,
   "metadata": {},
   "outputs": [
    {
     "name": "stdout",
     "output_type": "stream",
     "text": [
      "<class 'pandas.core.frame.DataFrame'>\n",
      "RangeIndex: 8609 entries, 0 to 8608\n",
      "Data columns (total 18 columns):\n",
      " #   Column                                      Non-Null Count  Dtype  \n",
      "---  ------                                      --------------  -----  \n",
      " 0   Location Code                               8609 non-null   object \n",
      " 1   Real Property Asset Name                    8609 non-null   object \n",
      " 2   Installation Name                           1244 non-null   object \n",
      " 3   Owned or Leased                             8609 non-null   object \n",
      " 4   GSA Region                                  8609 non-null   int64  \n",
      " 5   Street Address                              8609 non-null   object \n",
      " 6   City                                        8609 non-null   object \n",
      " 7   State                                       8609 non-null   object \n",
      " 8   Zip Code                                    8609 non-null   int64  \n",
      " 9   Latitude                                    8609 non-null   float64\n",
      " 10  Longitude                                   8609 non-null   float64\n",
      " 11  Building Rentable Square Feet               8609 non-null   float64\n",
      " 12  Available Square Feet                       8609 non-null   float64\n",
      " 13  Construction Date                           8557 non-null   float64\n",
      " 14  Congressional District                      8608 non-null   float64\n",
      " 15  Congressional District Representative Name  8608 non-null   object \n",
      " 16  Building Status                             8609 non-null   object \n",
      " 17  Real Property Asset Type                    8609 non-null   object \n",
      "dtypes: float64(6), int64(2), object(10)\n",
      "memory usage: 1.2+ MB\n"
     ]
    }
   ],
   "source": [
    "buildings.info()"
   ]
  },
  {
   "cell_type": "code",
   "execution_count": 7,
   "metadata": {},
   "outputs": [
    {
     "name": "stdout",
     "output_type": "stream",
     "text": [
      "<class 'pandas.core.frame.DataFrame'>\n",
      "RangeIndex: 7593 entries, 0 to 7592\n",
      "Data columns (total 19 columns):\n",
      " #   Column                                 Non-Null Count  Dtype         \n",
      "---  ------                                 --------------  -----         \n",
      " 0   Location Code                          7593 non-null   object        \n",
      " 1   Real Property Asset Name               7593 non-null   object        \n",
      " 2   Installation Name                      48 non-null     object        \n",
      " 3   Federal Leased Code                    7593 non-null   object        \n",
      " 4   GSA Region                             7593 non-null   int64         \n",
      " 5   Street Address                         7593 non-null   object        \n",
      " 6   City                                   7593 non-null   object        \n",
      " 7   State                                  7593 non-null   object        \n",
      " 8   Zip Code                               7593 non-null   int64         \n",
      " 9   Latitude                               7593 non-null   float64       \n",
      " 10  Longitude                              7593 non-null   float64       \n",
      " 11  Building Rentable Square Feet          7593 non-null   float64       \n",
      " 12  Available Square Feet                  7593 non-null   float64       \n",
      " 13  Congressional District                 7593 non-null   int64         \n",
      " 14  Congressional District Representative  7593 non-null   object        \n",
      " 15  Lease Number                           7593 non-null   object        \n",
      " 16  Lease Effective Date                   7593 non-null   datetime64[ns]\n",
      " 17  Lease Expiration Date                  7593 non-null   datetime64[ns]\n",
      " 18  Real Property Asset type               7593 non-null   object        \n",
      "dtypes: datetime64[ns](2), float64(4), int64(3), object(10)\n",
      "memory usage: 1.1+ MB\n"
     ]
    }
   ],
   "source": [
    "leases.info()"
   ]
  },
  {
   "cell_type": "markdown",
   "metadata": {},
   "source": [
    "### Text Format"
   ]
  },
  {
   "cell_type": "code",
   "execution_count": 8,
   "metadata": {},
   "outputs": [],
   "source": [
    "## Format letter case\n",
    "buildings['Real Property Asset Name'] = buildings['Real Property Asset Name'].str.title()\n",
    "buildings['Street Address'] = buildings['Street Address'].str.title()\n",
    "buildings['City'] = buildings['City'].str.title()\n",
    "buildings['Real Property Asset Type'] = buildings['Real Property Asset Type'].str.title()\n"
   ]
  },
  {
   "cell_type": "markdown",
   "metadata": {},
   "source": [
    "### General data overview"
   ]
  },
  {
   "cell_type": "code",
   "execution_count": 9,
   "metadata": {},
   "outputs": [
    {
     "data": {
      "text/plain": [
       "8609"
      ]
     },
     "execution_count": 9,
     "metadata": {},
     "output_type": "execute_result"
    }
   ],
   "source": [
    "# Total number of buildings\n",
    "buildings.shape[0]\n"
   ]
  },
  {
   "cell_type": "code",
   "execution_count": 10,
   "metadata": {},
   "outputs": [
    {
     "data": {
      "text/plain": [
       "7593"
      ]
     },
     "execution_count": 10,
     "metadata": {},
     "output_type": "execute_result"
    }
   ],
   "source": [
    "# Number of leased buildings from the lease table\n",
    "leases.shape[0]"
   ]
  },
  {
   "cell_type": "code",
   "execution_count": 11,
   "metadata": {},
   "outputs": [
    {
     "data": {
      "text/plain": [
       "6823"
      ]
     },
     "execution_count": 11,
     "metadata": {},
     "output_type": "execute_result"
    }
   ],
   "source": [
    "# Number of leased buildings from the buildings table\n",
    "buildings[buildings['Owned or Leased'] == \"L\"].shape[0]"
   ]
  },
  {
   "cell_type": "code",
   "execution_count": 12,
   "metadata": {},
   "outputs": [
    {
     "data": {
      "text/plain": [
       "1786"
      ]
     },
     "execution_count": 12,
     "metadata": {},
     "output_type": "execute_result"
    }
   ],
   "source": [
    "# Number of owned buildings\n",
    "buildings[buildings['Owned or Leased'] == \"F\"].shape[0]"
   ]
  },
  {
   "cell_type": "code",
   "execution_count": 13,
   "metadata": {},
   "outputs": [
    {
     "data": {
      "text/plain": [
       "np.int64(0)"
      ]
     },
     "execution_count": 13,
     "metadata": {},
     "output_type": "execute_result"
    }
   ],
   "source": [
    "buildings.duplicated().sum()\n"
   ]
  },
  {
   "cell_type": "code",
   "execution_count": 14,
   "metadata": {},
   "outputs": [
    {
     "data": {
      "text/html": [
       "<div>\n",
       "<style scoped>\n",
       "    .dataframe tbody tr th:only-of-type {\n",
       "        vertical-align: middle;\n",
       "    }\n",
       "\n",
       "    .dataframe tbody tr th {\n",
       "        vertical-align: top;\n",
       "    }\n",
       "\n",
       "    .dataframe thead th {\n",
       "        text-align: right;\n",
       "    }\n",
       "</style>\n",
       "<table border=\"1\" class=\"dataframe\">\n",
       "  <thead>\n",
       "    <tr style=\"text-align: right;\">\n",
       "      <th></th>\n",
       "      <th>Location Code</th>\n",
       "      <th>Real Property Asset Name</th>\n",
       "      <th>Installation Name</th>\n",
       "      <th>Federal Leased Code</th>\n",
       "      <th>GSA Region</th>\n",
       "      <th>Street Address</th>\n",
       "      <th>City</th>\n",
       "      <th>State</th>\n",
       "      <th>Zip Code</th>\n",
       "      <th>Latitude</th>\n",
       "      <th>Longitude</th>\n",
       "      <th>Building Rentable Square Feet</th>\n",
       "      <th>Available Square Feet</th>\n",
       "      <th>Congressional District</th>\n",
       "      <th>Congressional District Representative</th>\n",
       "      <th>Lease Number</th>\n",
       "      <th>Lease Effective Date</th>\n",
       "      <th>Lease Expiration Date</th>\n",
       "      <th>Real Property Asset type</th>\n",
       "    </tr>\n",
       "  </thead>\n",
       "  <tbody>\n",
       "    <tr>\n",
       "      <th>72</th>\n",
       "      <td>GA2170</td>\n",
       "      <td>56 PARK OF COMMERCE, SAVANNAH, GA</td>\n",
       "      <td>NaN</td>\n",
       "      <td>L</td>\n",
       "      <td>4</td>\n",
       "      <td>56 PARK OF COMMERCE BLVD</td>\n",
       "      <td>SAVANNAH</td>\n",
       "      <td>GA</td>\n",
       "      <td>31405</td>\n",
       "      <td>32.068700</td>\n",
       "      <td>-81.163241</td>\n",
       "      <td>25524.00</td>\n",
       "      <td>4480.000000</td>\n",
       "      <td>1301</td>\n",
       "      <td>EARL CARTER</td>\n",
       "      <td>LGA01769</td>\n",
       "      <td>2022-01-22</td>\n",
       "      <td>2037-01-21</td>\n",
       "      <td>BUILDING</td>\n",
       "    </tr>\n",
       "    <tr>\n",
       "      <th>100</th>\n",
       "      <td>CA6770</td>\n",
       "      <td>550 CORPORATE CENTER</td>\n",
       "      <td>NaN</td>\n",
       "      <td>L</td>\n",
       "      <td>9</td>\n",
       "      <td>550 W C ST</td>\n",
       "      <td>SAN DIEGO</td>\n",
       "      <td>CA</td>\n",
       "      <td>92101</td>\n",
       "      <td>32.716785</td>\n",
       "      <td>-117.167660</td>\n",
       "      <td>35546.90</td>\n",
       "      <td>0.000000</td>\n",
       "      <td>650</td>\n",
       "      <td>SCOTT PETERS</td>\n",
       "      <td>LCA02094</td>\n",
       "      <td>2009-02-23</td>\n",
       "      <td>2026-10-31</td>\n",
       "      <td>BUILDING</td>\n",
       "    </tr>\n",
       "    <tr>\n",
       "      <th>241</th>\n",
       "      <td>TX2148</td>\n",
       "      <td>DINERO PLAZA</td>\n",
       "      <td>NaN</td>\n",
       "      <td>L</td>\n",
       "      <td>7</td>\n",
       "      <td>1004 N BIG SPRING ST</td>\n",
       "      <td>MIDLAND</td>\n",
       "      <td>TX</td>\n",
       "      <td>79701</td>\n",
       "      <td>32.007090</td>\n",
       "      <td>-102.078180</td>\n",
       "      <td>25265.00</td>\n",
       "      <td>6007.000001</td>\n",
       "      <td>4811</td>\n",
       "      <td>AUGUST PFLUGER</td>\n",
       "      <td>LTX16918</td>\n",
       "      <td>2011-08-01</td>\n",
       "      <td>2026-07-31</td>\n",
       "      <td>BUILDING</td>\n",
       "    </tr>\n",
       "    <tr>\n",
       "      <th>275</th>\n",
       "      <td>TX7018</td>\n",
       "      <td>USBS PROGRESO ADMINISTRATION BUILDING</td>\n",
       "      <td>USBS PROGRESO</td>\n",
       "      <td>L</td>\n",
       "      <td>7</td>\n",
       "      <td>100 SOUTH INTERNATIONAL BLVD</td>\n",
       "      <td>PROGRESO</td>\n",
       "      <td>TX</td>\n",
       "      <td>78579</td>\n",
       "      <td>26.160674</td>\n",
       "      <td>-97.958514</td>\n",
       "      <td>24484.00</td>\n",
       "      <td>0.000000</td>\n",
       "      <td>4834</td>\n",
       "      <td>VICENTE GONZALEZ</td>\n",
       "      <td>LTX17098</td>\n",
       "      <td>2012-11-01</td>\n",
       "      <td>2027-10-31</td>\n",
       "      <td>BUILDING</td>\n",
       "    </tr>\n",
       "    <tr>\n",
       "      <th>334</th>\n",
       "      <td>VA0263</td>\n",
       "      <td>SKYLINE VI</td>\n",
       "      <td>NaN</td>\n",
       "      <td>L</td>\n",
       "      <td>11</td>\n",
       "      <td>5109 LEESBURG PIKE</td>\n",
       "      <td>FALLS CHURCH</td>\n",
       "      <td>VA</td>\n",
       "      <td>22041</td>\n",
       "      <td>38.843550</td>\n",
       "      <td>-77.116891</td>\n",
       "      <td>104366.00</td>\n",
       "      <td>65886.670269</td>\n",
       "      <td>5108</td>\n",
       "      <td>DONALD BEYER</td>\n",
       "      <td>LVA12674</td>\n",
       "      <td>2015-01-15</td>\n",
       "      <td>2025-01-14</td>\n",
       "      <td>BUILDING</td>\n",
       "    </tr>\n",
       "    <tr>\n",
       "      <th>...</th>\n",
       "      <td>...</td>\n",
       "      <td>...</td>\n",
       "      <td>...</td>\n",
       "      <td>...</td>\n",
       "      <td>...</td>\n",
       "      <td>...</td>\n",
       "      <td>...</td>\n",
       "      <td>...</td>\n",
       "      <td>...</td>\n",
       "      <td>...</td>\n",
       "      <td>...</td>\n",
       "      <td>...</td>\n",
       "      <td>...</td>\n",
       "      <td>...</td>\n",
       "      <td>...</td>\n",
       "      <td>...</td>\n",
       "      <td>...</td>\n",
       "      <td>...</td>\n",
       "      <td>...</td>\n",
       "    </tr>\n",
       "    <tr>\n",
       "      <th>7582</th>\n",
       "      <td>AZ8259</td>\n",
       "      <td>2800 N. CENTRAL AVENUE</td>\n",
       "      <td>NaN</td>\n",
       "      <td>L</td>\n",
       "      <td>9</td>\n",
       "      <td>2800 N CENTRAL AVE</td>\n",
       "      <td>PHOENIX</td>\n",
       "      <td>AZ</td>\n",
       "      <td>85004</td>\n",
       "      <td>33.478770</td>\n",
       "      <td>-112.074490</td>\n",
       "      <td>47306.37</td>\n",
       "      <td>0.000000</td>\n",
       "      <td>403</td>\n",
       "      <td>RUBEN GALLEGO</td>\n",
       "      <td>LAZ01475</td>\n",
       "      <td>2023-11-21</td>\n",
       "      <td>2033-11-20</td>\n",
       "      <td>BUILDING</td>\n",
       "    </tr>\n",
       "    <tr>\n",
       "      <th>7583</th>\n",
       "      <td>GA2400</td>\n",
       "      <td>THE MERIDIAN, ATLANTA, GA</td>\n",
       "      <td>NaN</td>\n",
       "      <td>L</td>\n",
       "      <td>4</td>\n",
       "      <td>1995 N PARK PL SE</td>\n",
       "      <td>ATLANTA</td>\n",
       "      <td>GA</td>\n",
       "      <td>30339</td>\n",
       "      <td>33.903960</td>\n",
       "      <td>-84.479751</td>\n",
       "      <td>23616.00</td>\n",
       "      <td>0.000000</td>\n",
       "      <td>1311</td>\n",
       "      <td>BARRY LOUDERMILK</td>\n",
       "      <td>LGA01410</td>\n",
       "      <td>2023-02-04</td>\n",
       "      <td>2033-02-03</td>\n",
       "      <td>BUILDING</td>\n",
       "    </tr>\n",
       "    <tr>\n",
       "      <th>7585</th>\n",
       "      <td>NY7184</td>\n",
       "      <td>5000 CORPORATE COURT</td>\n",
       "      <td>NaN</td>\n",
       "      <td>L</td>\n",
       "      <td>2</td>\n",
       "      <td>5000 CORPORATE CT</td>\n",
       "      <td>HOLTSVILLE</td>\n",
       "      <td>NY</td>\n",
       "      <td>11742</td>\n",
       "      <td>40.805586</td>\n",
       "      <td>-73.040137</td>\n",
       "      <td>231177.00</td>\n",
       "      <td>37601.000004</td>\n",
       "      <td>3602</td>\n",
       "      <td>ANDREW GARBARINO</td>\n",
       "      <td>LNY23744</td>\n",
       "      <td>2011-06-09</td>\n",
       "      <td>2029-06-08</td>\n",
       "      <td>BUILDING</td>\n",
       "    </tr>\n",
       "    <tr>\n",
       "      <th>7589</th>\n",
       "      <td>TN2042</td>\n",
       "      <td>PINNACLE BUILDING</td>\n",
       "      <td>NaN</td>\n",
       "      <td>L</td>\n",
       "      <td>4</td>\n",
       "      <td>412 N CEDAR BLUFF RD</td>\n",
       "      <td>KNOXVILLE</td>\n",
       "      <td>TN</td>\n",
       "      <td>37923</td>\n",
       "      <td>35.924050</td>\n",
       "      <td>-84.089881</td>\n",
       "      <td>6136.00</td>\n",
       "      <td>0.000000</td>\n",
       "      <td>4702</td>\n",
       "      <td>TIM BURCHETT</td>\n",
       "      <td>LTN00581</td>\n",
       "      <td>2018-01-15</td>\n",
       "      <td>2028-01-14</td>\n",
       "      <td>BUILDING</td>\n",
       "    </tr>\n",
       "    <tr>\n",
       "      <th>7592</th>\n",
       "      <td>CA6395</td>\n",
       "      <td>888 S FIGUEROA ST</td>\n",
       "      <td>NaN</td>\n",
       "      <td>L</td>\n",
       "      <td>9</td>\n",
       "      <td>888 S FIGUEROA ST</td>\n",
       "      <td>LOS ANGELES</td>\n",
       "      <td>CA</td>\n",
       "      <td>90017</td>\n",
       "      <td>34.046810</td>\n",
       "      <td>-118.261720</td>\n",
       "      <td>38789.00</td>\n",
       "      <td>0.000000</td>\n",
       "      <td>637</td>\n",
       "      <td>SYDNEY KAMLAGER-DOVE</td>\n",
       "      <td>LCA00282</td>\n",
       "      <td>2018-10-01</td>\n",
       "      <td>2028-09-30</td>\n",
       "      <td>BUILDING</td>\n",
       "    </tr>\n",
       "  </tbody>\n",
       "</table>\n",
       "<p>1105 rows × 19 columns</p>\n",
       "</div>"
      ],
      "text/plain": [
       "     Location Code               Real Property Asset Name Installation Name  \\\n",
       "72          GA2170      56 PARK OF COMMERCE, SAVANNAH, GA               NaN   \n",
       "100         CA6770                   550 CORPORATE CENTER               NaN   \n",
       "241         TX2148                           DINERO PLAZA               NaN   \n",
       "275         TX7018  USBS PROGRESO ADMINISTRATION BUILDING     USBS PROGRESO   \n",
       "334         VA0263                             SKYLINE VI               NaN   \n",
       "...            ...                                    ...               ...   \n",
       "7582        AZ8259                 2800 N. CENTRAL AVENUE               NaN   \n",
       "7583        GA2400              THE MERIDIAN, ATLANTA, GA               NaN   \n",
       "7585        NY7184                   5000 CORPORATE COURT               NaN   \n",
       "7589        TN2042                      PINNACLE BUILDING               NaN   \n",
       "7592        CA6395                      888 S FIGUEROA ST               NaN   \n",
       "\n",
       "     Federal Leased Code  GSA Region                Street Address  \\\n",
       "72                     L           4      56 PARK OF COMMERCE BLVD   \n",
       "100                    L           9                    550 W C ST   \n",
       "241                    L           7          1004 N BIG SPRING ST   \n",
       "275                    L           7  100 SOUTH INTERNATIONAL BLVD   \n",
       "334                    L          11            5109 LEESBURG PIKE   \n",
       "...                  ...         ...                           ...   \n",
       "7582                   L           9            2800 N CENTRAL AVE   \n",
       "7583                   L           4             1995 N PARK PL SE   \n",
       "7585                   L           2             5000 CORPORATE CT   \n",
       "7589                   L           4          412 N CEDAR BLUFF RD   \n",
       "7592                   L           9             888 S FIGUEROA ST   \n",
       "\n",
       "              City State  Zip Code   Latitude   Longitude  \\\n",
       "72        SAVANNAH    GA     31405  32.068700  -81.163241   \n",
       "100      SAN DIEGO    CA     92101  32.716785 -117.167660   \n",
       "241        MIDLAND    TX     79701  32.007090 -102.078180   \n",
       "275       PROGRESO    TX     78579  26.160674  -97.958514   \n",
       "334   FALLS CHURCH    VA     22041  38.843550  -77.116891   \n",
       "...            ...   ...       ...        ...         ...   \n",
       "7582       PHOENIX    AZ     85004  33.478770 -112.074490   \n",
       "7583       ATLANTA    GA     30339  33.903960  -84.479751   \n",
       "7585    HOLTSVILLE    NY     11742  40.805586  -73.040137   \n",
       "7589     KNOXVILLE    TN     37923  35.924050  -84.089881   \n",
       "7592   LOS ANGELES    CA     90017  34.046810 -118.261720   \n",
       "\n",
       "      Building Rentable Square Feet  Available Square Feet  \\\n",
       "72                         25524.00            4480.000000   \n",
       "100                        35546.90               0.000000   \n",
       "241                        25265.00            6007.000001   \n",
       "275                        24484.00               0.000000   \n",
       "334                       104366.00           65886.670269   \n",
       "...                             ...                    ...   \n",
       "7582                       47306.37               0.000000   \n",
       "7583                       23616.00               0.000000   \n",
       "7585                      231177.00           37601.000004   \n",
       "7589                        6136.00               0.000000   \n",
       "7592                       38789.00               0.000000   \n",
       "\n",
       "      Congressional District Congressional District Representative  \\\n",
       "72                      1301                           EARL CARTER   \n",
       "100                      650                          SCOTT PETERS   \n",
       "241                     4811                        AUGUST PFLUGER   \n",
       "275                     4834                      VICENTE GONZALEZ   \n",
       "334                     5108                          DONALD BEYER   \n",
       "...                      ...                                   ...   \n",
       "7582                     403                         RUBEN GALLEGO   \n",
       "7583                    1311                      BARRY LOUDERMILK   \n",
       "7585                    3602                      ANDREW GARBARINO   \n",
       "7589                    4702                          TIM BURCHETT   \n",
       "7592                     637                  SYDNEY KAMLAGER-DOVE   \n",
       "\n",
       "     Lease Number Lease Effective Date Lease Expiration Date  \\\n",
       "72       LGA01769           2022-01-22            2037-01-21   \n",
       "100      LCA02094           2009-02-23            2026-10-31   \n",
       "241      LTX16918           2011-08-01            2026-07-31   \n",
       "275      LTX17098           2012-11-01            2027-10-31   \n",
       "334      LVA12674           2015-01-15            2025-01-14   \n",
       "...           ...                  ...                   ...   \n",
       "7582     LAZ01475           2023-11-21            2033-11-20   \n",
       "7583     LGA01410           2023-02-04            2033-02-03   \n",
       "7585     LNY23744           2011-06-09            2029-06-08   \n",
       "7589     LTN00581           2018-01-15            2028-01-14   \n",
       "7592     LCA00282           2018-10-01            2028-09-30   \n",
       "\n",
       "     Real Property Asset type  \n",
       "72                   BUILDING  \n",
       "100                  BUILDING  \n",
       "241                  BUILDING  \n",
       "275                  BUILDING  \n",
       "334                  BUILDING  \n",
       "...                       ...  \n",
       "7582                 BUILDING  \n",
       "7583                 BUILDING  \n",
       "7585                 BUILDING  \n",
       "7589                 BUILDING  \n",
       "7592                 BUILDING  \n",
       "\n",
       "[1105 rows x 19 columns]"
      ]
     },
     "execution_count": 14,
     "metadata": {},
     "output_type": "execute_result"
    }
   ],
   "source": [
    "leases[leases.duplicated('Location Code')]\n"
   ]
  },
  {
   "cell_type": "markdown",
   "metadata": {},
   "source": [
    "There are duplicates in location code in the leases table because each code has different lease number along with start date and effective date."
   ]
  },
  {
   "cell_type": "code",
   "execution_count": 15,
   "metadata": {},
   "outputs": [
    {
     "data": {
      "text/plain": [
       "np.float64(364661684.11)"
      ]
     },
     "execution_count": 15,
     "metadata": {},
     "output_type": "execute_result"
    }
   ],
   "source": [
    "# Average building rentable square feet\n",
    "buildings['Building Rentable Square Feet'].sum()"
   ]
  },
  {
   "cell_type": "code",
   "execution_count": 16,
   "metadata": {},
   "outputs": [
    {
     "data": {
      "text/plain": [
       "np.float64(28373762.47807121)"
      ]
     },
     "execution_count": 16,
     "metadata": {},
     "output_type": "execute_result"
    }
   ],
   "source": [
    "# Average available rentable square feet\n",
    "buildings['Available Square Feet'].sum()"
   ]
  },
  {
   "cell_type": "code",
   "execution_count": 17,
   "metadata": {},
   "outputs": [
    {
     "data": {
      "text/plain": [
       "np.float64(9420.0)"
      ]
     },
     "execution_count": 17,
     "metadata": {},
     "output_type": "execute_result"
    }
   ],
   "source": [
    "# Median building rentable square feet\n",
    "buildings['Building Rentable Square Feet'].median()"
   ]
  },
  {
   "cell_type": "code",
   "execution_count": 18,
   "metadata": {},
   "outputs": [],
   "source": [
    "# Average age of owned building\n",
    "onwed_building = buildings[buildings['Owned or Leased'] == 'F']"
   ]
  },
  {
   "cell_type": "code",
   "execution_count": 19,
   "metadata": {},
   "outputs": [
    {
     "data": {
      "text/plain": [
       "np.float64(53.79142857142847)"
      ]
     },
     "execution_count": 19,
     "metadata": {},
     "output_type": "execute_result"
    }
   ],
   "source": [
    "datetime.datetime.today().year - onwed_building['Construction Date'].mean()"
   ]
  },
  {
   "cell_type": "code",
   "execution_count": 20,
   "metadata": {},
   "outputs": [],
   "source": [
    "avail_sqt_ft = buildings[buildings['Available Square Feet'] != 0]"
   ]
  },
  {
   "cell_type": "code",
   "execution_count": 21,
   "metadata": {},
   "outputs": [
    {
     "data": {
      "text/plain": [
       "np.float64(827821.006099589)"
      ]
     },
     "execution_count": 21,
     "metadata": {},
     "output_type": "execute_result"
    }
   ],
   "source": [
    "avail_sqt_ft['Available Square Feet'].max()"
   ]
  },
  {
   "cell_type": "code",
   "execution_count": 22,
   "metadata": {},
   "outputs": [
    {
     "data": {
      "text/plain": [
       "<Axes: xlabel='Construction Date', ylabel='Available Square Feet'>"
      ]
     },
     "execution_count": 22,
     "metadata": {},
     "output_type": "execute_result"
    },
    {
     "data": {
      "image/png": "[encoded data removed]",
      "text/plain": [
       "<Figure size 640x480 with 1 Axes>"
      ]
     },
     "metadata": {},
     "output_type": "display_data"
    }
   ],
   "source": [
    "sns.scatterplot(data=avail_sqt_ft, x='Construction Date', y='Available Square Feet', hue='GSA Region', palette='deep')"
   ]
  },
  {
   "cell_type": "markdown",
   "metadata": {},
   "source": [
    "GSA Region 11 is in Washington DC metropolitan areas."
   ]
  },
  {
   "cell_type": "code",
   "execution_count": 23,
   "metadata": {},
   "outputs": [
    {
     "data": {
      "text/plain": [
       "State\n",
       "TX    884\n",
       "CA    724\n",
       "FL    390\n",
       "NY    355\n",
       "VA    350\n",
       "MD    313\n",
       "DC    285\n",
       "PA    242\n",
       "CO    240\n",
       "IL    232\n",
       "MI    224\n",
       "WA    211\n",
       "GA    202\n",
       "NC    201\n",
       "AZ    197\n",
       "MO    191\n",
       "OH    185\n",
       "TN    159\n",
       "MT    140\n",
       "LA    137\n",
       "NM    137\n",
       "IN    136\n",
       "NJ    136\n",
       "AL    123\n",
       "OK    119\n",
       "MA    117\n",
       "KY    117\n",
       "WI    108\n",
       "AK    101\n",
       "WV    101\n",
       "MN    100\n",
       "UT    100\n",
       "OR     99\n",
       "MS     92\n",
       "SC     90\n",
       "ME     89\n",
       "AR     82\n",
       "VT     81\n",
       "PR     74\n",
       "IA     74\n",
       "ND     73\n",
       "KS     69\n",
       "SD     68\n",
       "ID     66\n",
       "NV     61\n",
       "CT     54\n",
       "NE     53\n",
       "WY     50\n",
       "HI     46\n",
       "NH     40\n",
       "DE     35\n",
       "RI     22\n",
       "VI     13\n",
       "GU      9\n",
       "MP      7\n",
       "AS      5\n",
       "Name: Location Code, dtype: int64"
      ]
     },
     "execution_count": 23,
     "metadata": {},
     "output_type": "execute_result"
    }
   ],
   "source": [
    "# Number of properties by state\n",
    "buildings.groupby(by='State')['Location Code'].count().sort_values(ascending=False)"
   ]
  },
  {
   "cell_type": "code",
   "execution_count": 24,
   "metadata": {},
   "outputs": [
    {
     "data": {
      "text/plain": [
       "GSA Region\n",
       "4     1374\n",
       "7     1359\n",
       "9     1049\n",
       "5      985\n",
       "3      777\n",
       "8      671\n",
       "11     611\n",
       "2      516\n",
       "10     477\n",
       "1      403\n",
       "6      387\n",
       "Name: Location Code, dtype: int64"
      ]
     },
     "execution_count": 24,
     "metadata": {},
     "output_type": "execute_result"
    }
   ],
   "source": [
    "# Number of properties by GSA Region\n",
    "buildings.groupby(by='GSA Region')['Location Code'].count().sort_values(ascending=False)"
   ]
  },
  {
   "cell_type": "markdown",
   "metadata": {},
   "source": [
    "### Utilization Analysis"
   ]
  },
  {
   "cell_type": "code",
   "execution_count": 25,
   "metadata": {},
   "outputs": [
    {
     "name": "stderr",
     "output_type": "stream",
     "text": [
      "C:\\Users\\bichn\\AppData\\Local\\Temp\\ipykernel_26584\\1560458114.py:2: SettingWithCopyWarning: \n",
      "A value is trying to be set on a copy of a slice from a DataFrame.\n",
      "Try using .loc[row_indexer,col_indexer] = value instead\n",
      "\n",
      "See the caveats in the documentation: https://pandas.pydata.org/pandas-docs/stable/user_guide/indexing.html#returning-a-view-versus-a-copy\n",
      "  avail_sqt_ft['Vacancy Rate'] = avail_sqt_ft['Available Square Feet'] / avail_sqt_ft['Building Rentable Square Feet'] * 100\n"
     ]
    }
   ],
   "source": [
    "# Calculate vacancy rate\n",
    "avail_sqt_ft['Vacancy Rate'] = avail_sqt_ft['Available Square Feet'] / avail_sqt_ft['Building Rentable Square Feet'] * 100"
   ]
  },
  {
   "cell_type": "code",
   "execution_count": 26,
   "metadata": {},
   "outputs": [
    {
     "data": {
      "text/plain": [
       "GSA Region\n",
       "6     54.368784\n",
       "9     53.028724\n",
       "11    51.640256\n",
       "7     45.713089\n",
       "5     45.261590\n",
       "8     42.829288\n",
       "3     41.000185\n",
       "1     40.978001\n",
       "4     40.892885\n",
       "2     40.485642\n",
       "10    39.202303\n",
       "Name: Vacancy Rate, dtype: float64"
      ]
     },
     "execution_count": 26,
     "metadata": {},
     "output_type": "execute_result"
    }
   ],
   "source": [
    "# Average vacancy rate by GSA Region\n",
    "avail_sqt_ft.groupby(by='GSA Region')['Vacancy Rate'].mean().sort_values(ascending=False)"
   ]
  },
  {
   "cell_type": "code",
   "execution_count": 27,
   "metadata": {},
   "outputs": [
    {
     "data": {
      "text/plain": [
       "State\n",
       "NH    69.023649\n",
       "MO    63.714165\n",
       "NJ    60.090818\n",
       "UT    58.947442\n",
       "IN    58.891075\n",
       "CA    58.541157\n",
       "MD    56.361543\n",
       "ND    53.190830\n",
       "NC    52.895103\n",
       "OK    52.627468\n",
       "IA    52.120710\n",
       "WI    50.960252\n",
       "AK    50.073810\n",
       "VT    50.057246\n",
       "KY    49.006167\n",
       "VA    48.932777\n",
       "GA    48.391737\n",
       "MT    48.270899\n",
       "ME    47.797502\n",
       "OH    47.417631\n",
       "NM    46.902326\n",
       "TX    45.828939\n",
       "SC    43.863236\n",
       "NV    43.413846\n",
       "DC    43.302872\n",
       "AR    42.894441\n",
       "MI    42.680471\n",
       "WA    42.138039\n",
       "CT    41.763555\n",
       "NY    41.398750\n",
       "MN    41.140962\n",
       "CO    40.751793\n",
       "NE    39.696845\n",
       "TN    39.575133\n",
       "VI    39.471947\n",
       "LA    36.235834\n",
       "IL    36.091693\n",
       "PA    33.431510\n",
       "HI    30.620172\n",
       "AL    29.341658\n",
       "OR    29.241844\n",
       "PR    28.351634\n",
       "MS    27.513446\n",
       "FL    27.224252\n",
       "MA    25.295409\n",
       "AZ    24.663589\n",
       "KS    23.511263\n",
       "ID    22.462348\n",
       "WY    12.665523\n",
       "WV    11.178414\n",
       "RI     9.047756\n",
       "SD     6.714336\n",
       "DE     2.847606\n",
       "GU     2.231945\n",
       "Name: Vacancy Rate, dtype: float64"
      ]
     },
     "execution_count": 27,
     "metadata": {},
     "output_type": "execute_result"
    }
   ],
   "source": [
    "# Average vacancy rate by State\n",
    "avail_sqt_ft.groupby(by='State')['Vacancy Rate'].mean().sort_values(ascending=False)"
   ]
  },
  {
   "cell_type": "code",
   "execution_count": 28,
   "metadata": {},
   "outputs": [
    {
     "data": {
      "text/html": [
       "<div>\n",
       "<style scoped>\n",
       "    .dataframe tbody tr th:only-of-type {\n",
       "        vertical-align: middle;\n",
       "    }\n",
       "\n",
       "    .dataframe tbody tr th {\n",
       "        vertical-align: top;\n",
       "    }\n",
       "\n",
       "    .dataframe thead th {\n",
       "        text-align: right;\n",
       "    }\n",
       "</style>\n",
       "<table border=\"1\" class=\"dataframe\">\n",
       "  <thead>\n",
       "    <tr style=\"text-align: right;\">\n",
       "      <th></th>\n",
       "      <th>Location Code</th>\n",
       "      <th>Real Property Asset Name</th>\n",
       "      <th>Installation Name</th>\n",
       "      <th>Owned or Leased</th>\n",
       "      <th>GSA Region</th>\n",
       "      <th>Street Address</th>\n",
       "      <th>City</th>\n",
       "      <th>State</th>\n",
       "      <th>Zip Code</th>\n",
       "      <th>Latitude</th>\n",
       "      <th>Longitude</th>\n",
       "      <th>Building Rentable Square Feet</th>\n",
       "      <th>Available Square Feet</th>\n",
       "      <th>Construction Date</th>\n",
       "      <th>Congressional District</th>\n",
       "      <th>Congressional District Representative Name</th>\n",
       "      <th>Building Status</th>\n",
       "      <th>Real Property Asset Type</th>\n",
       "      <th>Vacancy Rate</th>\n",
       "    </tr>\n",
       "  </thead>\n",
       "  <tbody>\n",
       "    <tr>\n",
       "      <th>2839</th>\n",
       "      <td>DC1336</td>\n",
       "      <td>Cremery Building</td>\n",
       "      <td>ST ELIZABETHS COMPLEX</td>\n",
       "      <td>F</td>\n",
       "      <td>11</td>\n",
       "      <td>2701 Martin Luther King Jr Ave Se</td>\n",
       "      <td>Washington</td>\n",
       "      <td>DC</td>\n",
       "      <td>20032</td>\n",
       "      <td>38.85361</td>\n",
       "      <td>-77.000351</td>\n",
       "      <td>31203.0</td>\n",
       "      <td>35329.905285</td>\n",
       "      <td>1883.0</td>\n",
       "      <td>1198.0</td>\n",
       "      <td>Eleanor Norton</td>\n",
       "      <td>Active</td>\n",
       "      <td>Building</td>\n",
       "      <td>113.225989</td>\n",
       "    </tr>\n",
       "  </tbody>\n",
       "</table>\n",
       "</div>"
      ],
      "text/plain": [
       "     Location Code Real Property Asset Name      Installation Name  \\\n",
       "2839        DC1336         Cremery Building  ST ELIZABETHS COMPLEX   \n",
       "\n",
       "     Owned or Leased  GSA Region                     Street Address  \\\n",
       "2839               F          11  2701 Martin Luther King Jr Ave Se   \n",
       "\n",
       "            City State  Zip Code  Latitude  Longitude  \\\n",
       "2839  Washington    DC     20032  38.85361 -77.000351   \n",
       "\n",
       "      Building Rentable Square Feet  Available Square Feet  Construction Date  \\\n",
       "2839                        31203.0           35329.905285             1883.0   \n",
       "\n",
       "      Congressional District Congressional District Representative Name  \\\n",
       "2839                  1198.0                             Eleanor Norton   \n",
       "\n",
       "     Building Status Real Property Asset Type  Vacancy Rate  \n",
       "2839          Active                 Building    113.225989  "
      ]
     },
     "execution_count": 28,
     "metadata": {},
     "output_type": "execute_result"
    }
   ],
   "source": [
    "# Property has highest vacancy rate\n",
    "avail_sqt_ft[avail_sqt_ft['Vacancy Rate'] == avail_sqt_ft['Vacancy Rate'].max()]"
   ]
  },
  {
   "cell_type": "code",
   "execution_count": 29,
   "metadata": {},
   "outputs": [],
   "source": [
    "leased_building = buildings[buildings['Owned or Leased'] == 'L']"
   ]
  },
  {
   "cell_type": "markdown",
   "metadata": {},
   "source": [
    "### Building Age and Status Analysis"
   ]
  },
  {
   "cell_type": "code",
   "execution_count": 30,
   "metadata": {},
   "outputs": [
    {
     "data": {
      "text/plain": [
       "<Axes: xlabel='Construction Date', ylabel='Count'>"
      ]
     },
     "execution_count": 30,
     "metadata": {},
     "output_type": "execute_result"
    },
    {
     "data": {
      "image/png": "[encoded data removed]",
      "text/plain": [
       "<Figure size 640x480 with 1 Axes>"
      ]
     },
     "metadata": {},
     "output_type": "display_data"
    }
   ],
   "source": [
    "# Owned buildings in different eras\n",
    "sns.histplot(data=onwed_building, x='Construction Date', hue='Building Status', multiple=\"stack\")"
   ]
  },
  {
   "cell_type": "markdown",
   "metadata": {},
   "source": [
    "### Lease Analysis"
   ]
  },
  {
   "cell_type": "code",
   "execution_count": 31,
   "metadata": {},
   "outputs": [],
   "source": [
    "lease_expire_by_2025 = leases[(leases['Lease Expiration Date'] >= datetime.datetime.today()) & (leases['Lease Expiration Date'] <= '2025-12-31') ]"
   ]
  },
  {
   "cell_type": "code",
   "execution_count": 32,
   "metadata": {},
   "outputs": [
    {
     "data": {
      "text/plain": [
       "GSA Region\n",
       "4     159\n",
       "9     101\n",
       "7      84\n",
       "5      83\n",
       "2      73\n",
       "11     69\n",
       "3      60\n",
       "10     50\n",
       "8      48\n",
       "6      43\n",
       "1      40\n",
       "Name: Location Code, dtype: int64"
      ]
     },
     "execution_count": 32,
     "metadata": {},
     "output_type": "execute_result"
    }
   ],
   "source": [
    "lease_expire_by_2025.groupby('GSA Region')['Location Code'].count().sort_values(ascending=False)"
   ]
  },
  {
   "cell_type": "markdown",
   "metadata": {},
   "source": [
    "GSA region 4 has the highest number of properties that are going to expired before 2025."
   ]
  },
  {
   "cell_type": "markdown",
   "metadata": {},
   "source": [
    "### Property Type Analysis"
   ]
  },
  {
   "cell_type": "code",
   "execution_count": 33,
   "metadata": {},
   "outputs": [
    {
     "data": {
      "text/plain": [
       "Real Property Asset Type\n",
       "Building     95.586015\n",
       "Structure     3.809966\n",
       "Land          0.604019\n",
       "Name: count, dtype: float64"
      ]
     },
     "execution_count": 33,
     "metadata": {},
     "output_type": "execute_result"
    }
   ],
   "source": [
    "buildings['Real Property Asset Type'].value_counts() / buildings.shape[0] * 100"
   ]
  },
  {
   "cell_type": "markdown",
   "metadata": {},
   "source": [
    "Building type are the main building type."
   ]
  }
 ],
 "metadata": {
  "kernelspec": {
   "display_name": "Python 3",
   "language": "python",
   "name": "python3"
  },
  "language_info": {
   "codemirror_mode": {
    "name": "ipython",
    "version": 3
   },
   "file_extension": ".py",
   "mimetype": "text/x-python",
   "name": "python",
   "nbconvert_exporter": "python",
   "pygments_lexer": "ipython3",
   "version": "3.12.1"
  }
 },
 "nbformat": 4,
 "nbformat_minor": 2
}
